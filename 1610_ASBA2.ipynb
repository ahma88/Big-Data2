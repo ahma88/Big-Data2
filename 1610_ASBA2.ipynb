{
 "cells": [
  {
   "cell_type": "code",
   "execution_count": 342,
   "metadata": {},
   "outputs": [],
   "source": [
    "import numpy as np\n",
    "import matplotlib.pyplot as plt\n",
    "import pandas as pd\n",
    "%matplotlib inline"
   ]
  },
  {
   "cell_type": "markdown",
   "metadata": {},
   "source": [
    "<h1>Model Evaluation and Selection</h1>\n",
    "\n",
    "<p>In this assignment we will introduce some techniques to evaluate the quality of a method and how to select good parameter values.</p>\n",
    "\n",
    "<p>We will be using the scikit built-in breast_cancer data set. It is binary classification problem where breast masses are classified as malignin (equal 0) or benign (equal 1).</p>"
   ]
  },
  {
   "cell_type": "code",
   "execution_count": 343,
   "metadata": {},
   "outputs": [],
   "source": [
    "from sklearn.datasets import load_breast_cancer\n",
    "dataset = load_breast_cancer()\n",
    "\n",
    "data = dataset.data\n",
    "target = dataset.target"
   ]
  },
  {
   "cell_type": "code",
   "execution_count": 344,
   "metadata": {},
   "outputs": [
    {
     "name": "stdout",
     "output_type": "stream",
     "text": [
      " There are 30 features listed as following : ['mean radius' 'mean texture' 'mean perimeter' 'mean area'\n",
      " 'mean smoothness' 'mean compactness' 'mean concavity'\n",
      " 'mean concave points' 'mean symmetry' 'mean fractal dimension'\n",
      " 'radius error' 'texture error' 'perimeter error' 'area error'\n",
      " 'smoothness error' 'compactness error' 'concavity error'\n",
      " 'concave points error' 'symmetry error' 'fractal dimension error'\n",
      " 'worst radius' 'worst texture' 'worst perimeter' 'worst area'\n",
      " 'worst smoothness' 'worst compactness' 'worst concavity'\n",
      " 'worst concave points' 'worst symmetry' 'worst fractal dimension']\n"
     ]
    }
   ],
   "source": [
    "###Find how many features we have and their names\n",
    "\n",
    "print \" There are\", dataset.feature_names.size, \"features listed as following :\", dataset.feature_names"
   ]
  },
  {
   "cell_type": "code",
   "execution_count": 345,
   "metadata": {},
   "outputs": [],
   "source": [
    "#The columns 10 to 19 are measurements errors and we can drop them without affecting much the work done here\n",
    "###Remove the columns 10 to 19 in the data \n",
    "\n",
    "sub_data = np.delete(data, [10,11,12,13,14,15,16,17,18,19], axis=1)"
   ]
  },
  {
   "cell_type": "code",
   "execution_count": 346,
   "metadata": {},
   "outputs": [
    {
     "data": {
      "text/plain": [
       "array([[  1.79900000e+01,   1.03800000e+01,   1.22800000e+02, ...,\n",
       "          2.65400000e-01,   4.60100000e-01,   1.18900000e-01],\n",
       "       [  2.05700000e+01,   1.77700000e+01,   1.32900000e+02, ...,\n",
       "          1.86000000e-01,   2.75000000e-01,   8.90200000e-02],\n",
       "       [  1.96900000e+01,   2.12500000e+01,   1.30000000e+02, ...,\n",
       "          2.43000000e-01,   3.61300000e-01,   8.75800000e-02],\n",
       "       ..., \n",
       "       [  1.66000000e+01,   2.80800000e+01,   1.08300000e+02, ...,\n",
       "          1.41800000e-01,   2.21800000e-01,   7.82000000e-02],\n",
       "       [  2.06000000e+01,   2.93300000e+01,   1.40100000e+02, ...,\n",
       "          2.65000000e-01,   4.08700000e-01,   1.24000000e-01],\n",
       "       [  7.76000000e+00,   2.45400000e+01,   4.79200000e+01, ...,\n",
       "          0.00000000e+00,   2.87100000e-01,   7.03900000e-02]])"
      ]
     },
     "execution_count": 346,
     "metadata": {},
     "output_type": "execute_result"
    }
   ],
   "source": [
    "sub_data"
   ]
  },
  {
   "cell_type": "code",
   "execution_count": 347,
   "metadata": {},
   "outputs": [
    {
     "data": {
      "text/plain": [
       "(569, 20)"
      ]
     },
     "execution_count": 347,
     "metadata": {},
     "output_type": "execute_result"
    }
   ],
   "source": [
    "np.shape(sub_data)"
   ]
  },
  {
   "cell_type": "code",
   "execution_count": 348,
   "metadata": {},
   "outputs": [
    {
     "data": {
      "text/plain": [
       "array([[ 1.09706398, -2.07333501,  1.26993369, ...,  2.29607613,\n",
       "         2.75062224,  1.93701461],\n",
       "       [ 1.82982061, -0.35363241,  1.68595471, ...,  1.0870843 ,\n",
       "        -0.24388967,  0.28118999],\n",
       "       [ 1.57988811,  0.45618695,  1.56650313, ...,  1.95500035,\n",
       "         1.152255  ,  0.20139121],\n",
       "       ..., \n",
       "       [ 0.70228425,  2.0455738 ,  0.67267578, ...,  0.41406869,\n",
       "        -1.10454895, -0.31840916],\n",
       "       [ 1.83834103,  2.33645719,  1.98252415, ...,  2.28998549,\n",
       "         1.91908301,  2.21963528],\n",
       "       [-1.80840125,  1.22179204, -1.81438851, ..., -1.74506282,\n",
       "        -0.04813821, -0.75120669]])"
      ]
     },
     "execution_count": 348,
     "metadata": {},
     "output_type": "execute_result"
    }
   ],
   "source": [
    "from sklearn.preprocessing import scale\n",
    "subscal_data = scale(sub_data)\n",
    "subscal_data"
   ]
  },
  {
   "cell_type": "markdown",
   "metadata": {},
   "source": [
    "<h2>Example on a Single Decision Tree</h2>\n",
    "\n",
    "<p>In this section we will introduce evaluation and paramtere selection techniques on a single decision tree.</p>\n",
    "\n",
    "<h4>Simple Evaluation</h4>\n",
    "<p>Evaluating the accuracy of a method can naively be done by splitting the data set in a training set and a test set.\n",
    "We train our classifier on the training set (obviously) and we evaluate the accuracy on the test set.<br>\n",
    "In scikit this is easily done by using the <i>.score()</i> functions of the classifier.</p>\n"
   ]
  },
  {
   "cell_type": "code",
   "execution_count": 349,
   "metadata": {},
   "outputs": [
    {
     "name": "stdout",
     "output_type": "stream",
     "text": [
      "New Data Train : [[-0.74902829 -1.09363975 -0.74055999 ..., -0.61357437  0.06510643\n",
      "   0.43524596]\n",
      " [-1.03304249 -0.15815877 -1.03424611 ..., -0.75107054 -1.11263786\n",
      "  -0.30621768]\n",
      " [-0.5331775  -0.31407227 -0.56426593 ..., -0.49480691  0.34336469\n",
      "  -0.14551181]\n",
      " ..., \n",
      " [-1.33239345 -0.22564372 -1.32422512 ..., -0.97581512 -0.72275273\n",
      "  -0.14329518]\n",
      " [-1.25173342 -0.24891439 -1.28674204 ..., -1.74506282 -1.60444316\n",
      "  -1.01720262]\n",
      " [-0.74334801  1.07984094 -0.71872918 ..., -0.27523937 -1.2760337\n",
      "   0.1869831 ]]  \n",
      " Test New Data : [[-0.20656118  0.28631105 -0.13712355 ...,  1.37791231  1.10695714\n",
      "   1.49368807]\n",
      " [-0.26052388  1.3870138  -0.32412706 ..., -0.83070565 -0.73893053\n",
      "  -0.89030039]\n",
      " [-0.03047238 -0.84464357 -0.09799286 ..., -0.49404558 -1.23720696\n",
      "  -0.93352473]\n",
      " ..., \n",
      " [-0.11851678 -0.1418693  -0.13341643 ...,  0.21003229 -0.08372939\n",
      "   0.35267639]\n",
      " [-0.2349626   0.5306531  -0.27717023 ..., -0.89024164 -0.42669888\n",
      "  -0.96234096]\n",
      " [-1.36164691  0.61675458 -1.35758919 ..., -1.35465286 -0.75349056\n",
      "  -0.5550347 ]]\n"
     ]
    }
   ],
   "source": [
    "from sklearn.cross_validation import train_test_split\n",
    "\n",
    "###Split the data in train and test sets and the target in train_target and test_target (ratio 70%-30%)\n",
    "## Hint : by using the keyword \"random_state=0\" when you call train_test_split\n",
    "##        you make sure that the splits are the same for both data and target\n",
    "\n",
    "subscal_data_train, subscal_data_test, target_train, target_test = train_test_split(subscal_data, target, test_size=0.3, random_state=0)\n",
    "\n",
    "###Import a decision tree and train it on the training set with the default settings\n",
    "print \"New Data Train :\", subscal_data_train, \" \\n Test New Data :\", subscal_data_test\n",
    "#print \"Train Target :\", target_train, \"Test Target :\", target_test"
   ]
  },
  {
   "cell_type": "code",
   "execution_count": 350,
   "metadata": {},
   "outputs": [
    {
     "data": {
      "text/plain": [
       "DecisionTreeClassifier(class_weight=None, criterion='gini', max_depth=None,\n",
       "            max_features=None, max_leaf_nodes=None, min_samples_leaf=1,\n",
       "            min_samples_split=2, min_weight_fraction_leaf=0.0,\n",
       "            presort=False, random_state=None, splitter='best')"
      ]
     },
     "execution_count": 350,
     "metadata": {},
     "output_type": "execute_result"
    }
   ],
   "source": [
    "from sklearn.tree import DecisionTreeClassifier\n",
    "dtr = DecisionTreeClassifier()\n",
    "\n",
    "dtr.fit(subscal_data_train,target_train)"
   ]
  },
  {
   "cell_type": "code",
   "execution_count": 351,
   "metadata": {},
   "outputs": [
    {
     "name": "stdout",
     "output_type": "stream",
     "text": [
      "Accuracy :  0.923976608187\n"
     ]
    }
   ],
   "source": [
    "###Compute the accuracy on the test set\n",
    "\n",
    "print \"Accuracy : \", dtr.score(subscal_data_test,target_test)"
   ]
  },
  {
   "cell_type": "markdown",
   "metadata": {},
   "source": [
    "<p>The accuracy is simply giving you the amount of samples that have been correctly classified<br>\n",
    "Other methods to measure the quality of the classifier are available. For instance one can use the F1 score. F1 score use the <i>precision</i> and <i>recall</i> (see https://en.wikipedia.org/wiki/Precision_and_recall) to evaluate the quality of a classification.</p>"
   ]
  },
  {
   "cell_type": "code",
   "execution_count": 355,
   "metadata": {},
   "outputs": [
    {
     "name": "stdout",
     "output_type": "stream",
     "text": [
      "F1 (balanced):  0.937799043062\n"
     ]
    }
   ],
   "source": [
    "from sklearn.metrics import f1_score\n",
    "#f1_score(<test targets>,<classifier prediction for the test set>,average='binary')\n",
    "#print \"Precision\", precision_score(y_test, y_pred)\n",
    "#print \"Recall\", recall_score(y_test, y_pred)\n",
    "target_pred = dtr.predict(subscal_data_test)\n",
    "\n",
    "print \"F1 (balanced): \", f1_score(target_test, target_pred, average='binary')"
   ]
  },
  {
   "cell_type": "markdown",
   "metadata": {},
   "source": [
    "<p>It is also possible to have the detail of precision and recall for both classes :</p>"
   ]
  },
  {
   "cell_type": "code",
   "execution_count": 356,
   "metadata": {},
   "outputs": [
    {
     "name": "stdout",
     "output_type": "stream",
     "text": [
      "             precision    recall  f1-score   support\n",
      "\n",
      "  malignant       0.86      0.95      0.90        63\n",
      "     benign       0.97      0.91      0.94       108\n",
      "\n",
      "avg / total       0.93      0.92      0.92       171\n",
      "\n"
     ]
    }
   ],
   "source": [
    "from sklearn.metrics import classification_report\n",
    "#print classification_report(<test targets>,<classifier predictions for test set>,target_names=<target names>)\n",
    "print classification_report(target_test, target_pred, target_names= ['malignant', 'benign'])"
   ]
  },
  {
   "cell_type": "markdown",
   "metadata": {},
   "source": [
    "<p>We started this study by doing a random separation for the train/test sets. Actually all scores of tests performed so far depend on this separation.</p>\n",
    "\n",
    "<h4> <u>QUESTION 1 :</u> Explain why all scores are specific to our first sets split.</h4>\n",
    "<p><i>The reason comes from the train_test_split function that randomly divided into data subsets using the pseudo-random number generator (<u>random_state.</u>)</i></p>"
   ]
  },
  {
   "cell_type": "markdown",
   "metadata": {},
   "source": [
    "<h4>Cross Validation</h4>\n",
    "\n",
    "<p>Another way to evaluate the accuracy of a decision tree (and any method in general) is to use a cross validation technique :\n",
    "Basically it consists in first dividing the data set in <i>k</i> sets named <i>folds</i>, then train the classifier on <i>k-1</i> folds and evaluate the accuracy on the remaining fold.</p>\n",
    "<p>In scikit this can be done by using the <i>cross_val_score</i> function</p>"
   ]
  },
  {
   "cell_type": "code",
   "execution_count": 357,
   "metadata": {},
   "outputs": [
    {
     "data": {
      "text/plain": [
       "array([ 0.93157895,  0.95789474,  0.8994709 ])"
      ]
     },
     "execution_count": 357,
     "metadata": {},
     "output_type": "execute_result"
    }
   ],
   "source": [
    "from sklearn.cross_validation import cross_val_score\n",
    "\n",
    "###use the cross_val_score function on the whole dataset\n",
    "\n",
    "scores = cross_val_score(dtr, subscal_data, target)\n",
    "\n",
    "#When calling the cross_val_score it returns one score per fold\n",
    "#As by default the function uses a three-fold separation you have three value\n",
    "\n",
    "scores"
   ]
  },
  {
   "cell_type": "code",
   "execution_count": 358,
   "metadata": {},
   "outputs": [
    {
     "name": "stdout",
     "output_type": "stream",
     "text": [
      "Cross Validated test scoresfor DecisionTree on full dataset:\n",
      "Mean: 0.92964819456\n",
      "Standard deviation: 0.02389047297\n",
      "Accuracy of DecisionTree  belong to [0.88187 , 0.97743]\n"
     ]
    }
   ],
   "source": [
    "###Compute and print the mean and the standard deviation of the cross_val_score function\n",
    "\n",
    "print \"Cross Validated test scoresfor DecisionTree on full dataset:\"\n",
    "print \"Mean:\", np.mean(scores)\n",
    "print \"Standard deviation:\", np.std(scores)\n",
    "m = np.mean(scores) - 2*np.std(scores)\n",
    "M = np.mean(scores) + 2*np.std(scores)\n",
    "print \"Accuracy of DecisionTree  belong to [%0.5f , %0.5f]\" % (m, M)"
   ]
  },
  {
   "cell_type": "markdown",
   "metadata": {},
   "source": [
    "<p>Several techniques exist to divide the data set in folds (see http://scikit-learn.org/stable/modules/cross_validation.html for more details).</p>\n",
    "<p>Nonetheless, it is worth mentioning another technique : the ShuffleSplit. This technique generates a pre-defined number of independent train/test dataset splits. Samples are first shuffled and then split into a pair of train and test sets.</p>\n",
    "<p>This can be implemented as follow :</p>"
   ]
  },
  {
   "cell_type": "code",
   "execution_count": 359,
   "metadata": {},
   "outputs": [
    {
     "data": {
      "text/plain": [
       "ShuffleSplit(569, n_iter=5, test_size=0.4, random_state=0)"
      ]
     },
     "execution_count": 359,
     "metadata": {},
     "output_type": "execute_result"
    }
   ],
   "source": [
    "from sklearn.cross_validation import ShuffleSplit\n",
    "cv_ss = ShuffleSplit(subscal_data.shape[0],n_iter=5,test_size=0.4,random_state=0)\n",
    "from scipy.stats import sem\n",
    "cv_ss"
   ]
  },
  {
   "cell_type": "code",
   "execution_count": 360,
   "metadata": {},
   "outputs": [
    {
     "data": {
      "text/plain": [
       "array([ 0.9254386 ,  0.95175439,  0.93421053,  0.90789474,  0.89912281])"
      ]
     },
     "execution_count": 360,
     "metadata": {},
     "output_type": "execute_result"
    }
   ],
   "source": [
    "###Use again the cross_val_score function and set \"cv=cv_ss\"\n",
    "\n",
    "cv_ss_scores = cross_val_score(dtr, subscal_data, target, cv=cv_ss)\n",
    "\n",
    "cv_ss_scores"
   ]
  },
  {
   "cell_type": "code",
   "execution_count": 361,
   "metadata": {},
   "outputs": [
    {
     "name": "stdout",
     "output_type": "stream",
     "text": [
      "Cross Validated test scores for DecisionTree on full dataset:\n",
      "Mean: 0.923684210526\n",
      "Standard deviation: 0.0187317162316\n",
      "Accuracy of DecisionTree  belong to [0.88622 , 0.96115]\n"
     ]
    }
   ],
   "source": [
    "###Compute again the mean and the standard deviation of the output\n",
    "\n",
    "print \"Cross Validated test scores for DecisionTree on full dataset:\"\n",
    "print \"Mean:\", np.mean(cv_ss_scores)\n",
    "print \"Standard deviation:\", np.std(cv_ss_scores)\n",
    "m = np.mean(cv_ss_scores) - 2*np.std(cv_ss_scores)\n",
    "M = np.mean(cv_ss_scores) + 2*np.std(cv_ss_scores)\n",
    "print \"Accuracy of DecisionTree  belong to [%0.5f , %0.5f]\" % (m, M)"
   ]
  },
  {
   "cell_type": "markdown",
   "metadata": {},
   "source": [
    "<h4> <u>QUESTION 2 :</u> Are results very different?</h4>\n",
    "<p><i>Type your answer here</i></p>\n",
    "\n",
    "<h4>No, we don't have the same results?</h4>\n",
    "\n",
    "<h3>Finding Optimal Parameters</h3>\n",
    "\n",
    "<p>In the previous section we have use the default settings for our classifiers but this is usually not necessarily the most optimal choice.</p>\n",
    "<p>In this section we will introduce tools to find good parameters value.</p>\n",
    "\n",
    "<h4>Grid Search - a brute force approach</h4>\n",
    "<p>A decision tree has several parameters we can change to optimize the classification. Scikit offers the possibility to investigate several parameters using <i>GridSearchCV</i>. You simply need to define a \"parameter grid\" (a dictionary in python) that defines the parameters values you want to try and feed it to a GridSearchCV object :</p>"
   ]
  },
  {
   "cell_type": "code",
   "execution_count": 362,
   "metadata": {},
   "outputs": [
    {
     "data": {
      "text/plain": [
       "GridSearchCV(cv=3, error_score='raise',\n",
       "       estimator=DecisionTreeClassifier(class_weight=None, criterion='gini', max_depth=None,\n",
       "            max_features=None, max_leaf_nodes=None, min_samples_leaf=1,\n",
       "            min_samples_split=2, min_weight_fraction_leaf=0.0,\n",
       "            presort=False, random_state=None, splitter='best'),\n",
       "       fit_params={}, iid=True, n_jobs=1,\n",
       "       param_grid={'presort': [<type 'bool'>, False], 'random_state': [10, None], 'criterion': ['entropy', 'gini'], 'max_features': ['auto', 'sqrt', 'log2'], 'max_leaf_nodes': [None, 7, 8, 10, 15, 25, 30], 'max_depth': [None, 3, 4, 5, 6, 8, 9, 10, 11, 12]},\n",
       "       pre_dispatch='2*n_jobs', refit=True, scoring=None, verbose=0)"
      ]
     },
     "execution_count": 362,
     "metadata": {},
     "output_type": "execute_result"
    }
   ],
   "source": [
    "from sklearn.grid_search import GridSearchCV\n",
    "\n",
    "###Example of a parameter grid dictionary, run it once and then include more parameters in p_grid\n",
    "p_grid=dict({'criterion':['entropy','gini'], 'max_depth':[None,3,4,5,6,8,9,10,11,12],'presort':[bool, False],\n",
    "             'random_state':[10, None],'max_leaf_nodes':[None,7,8,10,15,25,30], 'max_features':['auto','sqrt','log2']})\n",
    "\n",
    "\n",
    "#grd = GridSearchCV(<classifier>,cv=3,param_grid=<dictionary of parameters to investigate>)\n",
    "#grd.fit(<training set>,<train set targets>)\n",
    "\n",
    "grd = GridSearchCV(dtr,cv=3,param_grid=p_grid)\n",
    "grd.fit(subscal_data_train,target_train)"
   ]
  },
  {
   "cell_type": "markdown",
   "metadata": {},
   "source": [
    "<h4> <u>QUESTION 2 :</u> What does the \"CV\" at the end of GridSearchCV stands for? What is it telling you?</h4>\n",
    "<p><i>CV means Cross Validation. The parameters of the estimator used to apply these methods are optimized by cross-validated  GridSearch over a parameter grid.</i></p>"
   ]
  },
  {
   "cell_type": "code",
   "execution_count": 363,
   "metadata": {},
   "outputs": [
    {
     "data": {
      "text/plain": [
       "{'criterion': 'entropy',\n",
       " 'max_depth': None,\n",
       " 'max_features': 'auto',\n",
       " 'max_leaf_nodes': 8,\n",
       " 'presort': bool,\n",
       " 'random_state': None}"
      ]
     },
     "execution_count": 363,
     "metadata": {},
     "output_type": "execute_result"
    }
   ],
   "source": [
    "#You can ask for the best parameters found by running the following command\n",
    "grd.best_params_"
   ]
  },
  {
   "cell_type": "code",
   "execution_count": 364,
   "metadata": {},
   "outputs": [
    {
     "name": "stdout",
     "output_type": "stream",
     "text": [
      "Best score: 0.95226\n"
     ]
    }
   ],
   "source": [
    "print(\"Best score: %0.5f\" % grd.best_score_)\n"
   ]
  },
  {
   "cell_type": "code",
   "execution_count": 365,
   "metadata": {},
   "outputs": [
    {
     "data": {
      "text/plain": [
       "DecisionTreeClassifier(class_weight=None, criterion='entropy', max_depth=None,\n",
       "            max_features='auto', max_leaf_nodes=8, min_samples_leaf=1,\n",
       "            min_samples_split=2, min_weight_fraction_leaf=0.0,\n",
       "            presort=<type 'bool'>, random_state=None, splitter='best')"
      ]
     },
     "execution_count": 365,
     "metadata": {},
     "output_type": "execute_result"
    }
   ],
   "source": [
    "#And creat directly a new classifier with the optimal parameters by running\n",
    "new_dtr = grd.best_estimator_\n",
    "\n",
    "###Check the \"new_dtr\" parameters\n",
    "new_dtr"
   ]
  },
  {
   "cell_type": "code",
   "execution_count": 366,
   "metadata": {},
   "outputs": [
    {
     "name": "stdout",
     "output_type": "stream",
     "text": [
      " The Best parameters set for the New DecisionTreeClassifier is :\n"
     ]
    },
    {
     "data": {
      "text/plain": [
       "{'class_weight': None,\n",
       " 'criterion': 'entropy',\n",
       " 'max_depth': None,\n",
       " 'max_features': 'auto',\n",
       " 'max_leaf_nodes': 8,\n",
       " 'min_samples_leaf': 1,\n",
       " 'min_samples_split': 2,\n",
       " 'min_weight_fraction_leaf': 0.0,\n",
       " 'presort': bool,\n",
       " 'random_state': None,\n",
       " 'splitter': 'best'}"
      ]
     },
     "execution_count": 366,
     "metadata": {},
     "output_type": "execute_result"
    }
   ],
   "source": [
    "\n",
    "print \" The Best parameters set for the New DecisionTreeClassifier is :\"\n",
    "#Obtain the top performing parameters\n",
    "best_parameters = grd.best_estimator_.get_params()\n",
    "#Print the results\n",
    "best_parameters"
   ]
  },
  {
   "cell_type": "code",
   "execution_count": 367,
   "metadata": {},
   "outputs": [
    {
     "data": {
      "text/plain": [
       "DecisionTreeClassifier(class_weight=None, criterion='entropy', max_depth=None,\n",
       "            max_features='auto', max_leaf_nodes=8, min_samples_leaf=1,\n",
       "            min_samples_split=2, min_weight_fraction_leaf=0.0,\n",
       "            presort=<type 'bool'>, random_state=None, splitter='best')"
      ]
     },
     "execution_count": 367,
     "metadata": {},
     "output_type": "execute_result"
    }
   ],
   "source": [
    "###Now train the new classifier\n",
    "new_dtr.fit(subscal_data_train,target_train)"
   ]
  },
  {
   "cell_type": "code",
   "execution_count": 368,
   "metadata": {},
   "outputs": [
    {
     "name": "stdout",
     "output_type": "stream",
     "text": [
      "Best Accuracy =  0.93567251462\n"
     ]
    }
   ],
   "source": [
    "###Compute its accuracy\n",
    "print \"Best Accuracy = \", new_dtr.score(subscal_data_test,target_test)"
   ]
  },
  {
   "cell_type": "code",
   "execution_count": 369,
   "metadata": {},
   "outputs": [
    {
     "name": "stdout",
     "output_type": "stream",
     "text": [
      "F1 (Best balanced):  0.951111111111\n"
     ]
    }
   ],
   "source": [
    "target_new_pred = new_dtr.predict(subscal_data_test)\n",
    "\n",
    "print \"F1 (Best balanced): \", f1_score(target_test, target_new_pred)"
   ]
  },
  {
   "cell_type": "code",
   "execution_count": 370,
   "metadata": {},
   "outputs": [
    {
     "name": "stdout",
     "output_type": "stream",
     "text": [
      "             precision    recall  f1-score   support\n",
      "\n",
      "  malignant       0.98      0.84      0.91        63\n",
      "     benign       0.91      0.99      0.95       108\n",
      "\n",
      "avg / total       0.94      0.94      0.93       171\n",
      "\n"
     ]
    }
   ],
   "source": [
    "###print the classification report\n",
    "from sklearn.metrics import classification_report\n",
    "#print classification_report(<test targets>,<classifier predictions for test set>,target_names=<target names>)\n",
    "print classification_report(target_test, target_new_pred, target_names= ['malignant', 'benign'])"
   ]
  },
  {
   "cell_type": "markdown",
   "metadata": {},
   "source": [
    "<h4>Learning and Validation Curves</h4>\n",
    "<p> Scikit provides additional tools to tune our algorithm.<br>\n",
    "One useful tool is the learning curve. It gives the cross-validated training and test scores for different training sets sizes.\n",
    "We can use it on the previously defined new classifier \"new_dtr\" :</p>"
   ]
  },
  {
   "cell_type": "code",
   "execution_count": 371,
   "metadata": {},
   "outputs": [],
   "source": [
    "from sklearn.learning_curve import learning_curve\n",
    "\n",
    "###Compute the learning curve\n",
    "train_sizes,train_scores,test_scores = learning_curve(new_dtr,subscal_data_train, target_train,\n",
    "                                       train_sizes=[10, 50, 100, 150, 200, 250, 264],cv=3, n_jobs=1)\n",
    "#The list of training sizes can be absolute numbers or amount if between (0,1]\n"
   ]
  },
  {
   "cell_type": "code",
   "execution_count": 372,
   "metadata": {},
   "outputs": [
    {
     "data": {
      "text/plain": [
       "<matplotlib.legend.Legend at 0x7f3e75bdbd90>"
      ]
     },
     "execution_count": 372,
     "metadata": {},
     "output_type": "execute_result"
    },
    {
     "data": {
      "image/png": "[encoded data removed]",
      "text/plain": [
       "<matplotlib.figure.Figure at 0x7f3e75ffdb50>"
      ]
     },
     "metadata": {},
     "output_type": "display_data"
    }
   ],
   "source": [
    "###Visualize the learning curve (don't forget labels, title,legend,etc)\n",
    "\n",
    "plt.figure(figsize=(15,7.5))\n",
    "plt.title('Learning Curve(DecisionTreeClassifier)')\n",
    "plt.xlabel(\"Training Sizes\")\n",
    "plt.ylabel(\"Score\")\n",
    "train_scores_mean = np.mean(train_scores, axis=1)\n",
    "train_scores_std = np.std(train_scores, axis=1)\n",
    "test_scores_mean = np.mean(test_scores, axis=1)\n",
    "test_scores_std = np.std(test_scores, axis=1)\n",
    "plt.grid()\n",
    "\n",
    "plt.plot(train_sizes, train_scores_mean, 'o-', color=\"b\", label=\"Training score\")\n",
    "plt.plot(train_sizes, test_scores_mean, 'o-', color=\"y\", label=\"Cross-validation score\")\n",
    "plt.legend(loc=\"best\")\n",
    "#You should see why I chose a 70%-30% ratio"
   ]
  },
  {
   "cell_type": "markdown",
   "metadata": {},
   "source": [
    "<h4> <u>QUESTION 3 :</u> Why isn't the training score equal to one?</h4>\n",
    "<p><i>The reason is the Cross Validation is Randomness</i></p>\n",
    "\n",
    "<p>A second tool meant to investigate a specific parameter influence on scores is the <i>validation curve</i>. It is basically like a gridsearch with a single parameter. </p>"
   ]
  },
  {
   "cell_type": "code",
   "execution_count": 373,
   "metadata": {},
   "outputs": [
    {
     "data": {
      "text/plain": [
       "<matplotlib.legend.Legend at 0x7f3e75b0a350>"
      ]
     },
     "execution_count": 373,
     "metadata": {},
     "output_type": "execute_result"
    },
    {
     "data": {
      "image/png": "[encoded data removed]",
      "text/plain": [
       "<matplotlib.figure.Figure at 0x7f3e760ce510>"
      ]
     },
     "metadata": {},
     "output_type": "display_data"
    }
   ],
   "source": [
    "from sklearn.learning_curve import validation_curve\n",
    "\n",
    "#Just an example\n",
    "train_score,test_score = validation_curve(new_dtr,subscal_data_train,target_train,param_name='max_depth',\n",
    "                                          param_range=np.arange(2,8),cv=3)\n",
    "###Plot the validation curve\n",
    "plt.figure(figsize=(20,10))\n",
    "plt.title('Validation Curve with DecisionTreeClassifier')\n",
    "plt.xlabel(\"Parameter Range\")\n",
    "plt.ylabel(\"Score\")\n",
    "train_score_mean = np.mean(train_score, axis=1)\n",
    "train_score_std = np.std(train_score, axis=1)\n",
    "test_score_mean = np.mean(test_score, axis=1)\n",
    "test_score_std = np.std(test_score, axis=1)\n",
    "plt.grid()\n",
    "plt.plot(np.arange(2,8), train_score_mean, label=\"Training score\", color=\"b\")\n",
    "plt.plot(np.arange(2,8), test_score_mean, label=\"Cross-validation score\",\n",
    "             color=\"y\")\n",
    "plt.legend(loc=\"best\")\n",
    "                                          \n",
    "                                          \n",
    "                                    "
   ]
  },
  {
   "cell_type": "markdown",
   "metadata": {},
   "source": [
    "<h3>Application - Evaluating the Random Forest classifier and the SVC</h3>\n",
    "\n",
    "<p>In the following you will apply the evaluation and optimization tools to compare the Random Forest technique and the SVC technique.</p>"
   ]
  },
  {
   "cell_type": "code",
   "execution_count": 374,
   "metadata": {},
   "outputs": [
    {
     "data": {
      "text/plain": [
       "RandomForestClassifier(bootstrap=True, class_weight=None, criterion='gini',\n",
       "            max_depth=None, max_features='auto', max_leaf_nodes=None,\n",
       "            min_samples_leaf=1, min_samples_split=2,\n",
       "            min_weight_fraction_leaf=0.0, n_estimators=10, n_jobs=1,\n",
       "            oob_score=False, random_state=None, verbose=0,\n",
       "            warm_start=False)"
      ]
     },
     "execution_count": 374,
     "metadata": {},
     "output_type": "execute_result"
    }
   ],
   "source": [
    "###Import the \"RandomForestClassifier\" classifier\n",
    "from sklearn.ensemble import RandomForestClassifier\n",
    "\n",
    "###Train it on the training set\n",
    "rfr = RandomForestClassifier()\n",
    "rfr.fit(subscal_data_train,target_train)\n"
   ]
  },
  {
   "cell_type": "code",
   "execution_count": 375,
   "metadata": {},
   "outputs": [
    {
     "data": {
      "text/plain": [
       "SVC(C=1.0, cache_size=200, class_weight=None, coef0=0.0,\n",
       "  decision_function_shape=None, degree=3, gamma='auto', kernel='rbf',\n",
       "  max_iter=-1, probability=False, random_state=None, shrinking=True,\n",
       "  tol=0.001, verbose=False)"
      ]
     },
     "execution_count": 375,
     "metadata": {},
     "output_type": "execute_result"
    }
   ],
   "source": [
    "###Import the \"SVC\" classifier\n",
    "from sklearn.svm import SVC\n",
    "###Train it on the training set  (don't forget to scale it!)\n",
    "svc = SVC()\n",
    "svc.fit(subscal_data_train, target_train)"
   ]
  },
  {
   "cell_type": "markdown",
   "metadata": {},
   "source": [
    "<p>Before evaluating the performance of both classifiers we will first determine the best values for their parameters</p>"
   ]
  },
  {
   "cell_type": "code",
   "execution_count": 376,
   "metadata": {},
   "outputs": [
    {
     "data": {
      "text/plain": [
       "GridSearchCV(cv=3, error_score='raise',\n",
       "       estimator=RandomForestClassifier(bootstrap=True, class_weight=None, criterion='gini',\n",
       "            max_depth=None, max_features='auto', max_leaf_nodes=None,\n",
       "            min_samples_leaf=1, min_samples_split=2,\n",
       "            min_weight_fraction_leaf=0.0, n_estimators=10, n_jobs=1,\n",
       "            oob_score=False, random_state=None, verbose=0,\n",
       "            warm_start=False),\n",
       "       fit_params={}, iid=True, n_jobs=1,\n",
       "       param_grid={'max_features': [None, 5, 15], 'criterion': ['entropy', 'gini'], 'min_samples_split': [2, 5], 'max_leaf_nodes': [None, 7], 'max_depth': [None, 5, 9], 'min_samples_leaf': [1, 2, 6]},\n",
       "       pre_dispatch='2*n_jobs', refit=True, scoring=None, verbose=0)"
      ]
     },
     "execution_count": 376,
     "metadata": {},
     "output_type": "execute_result"
    }
   ],
   "source": [
    "###Using the grid search optimize the Random Forest Classifier\n",
    "\n",
    "rfr_grid=dict({'criterion':['entropy','gini'], 'max_depth':[None,5,9],\n",
    "             'max_leaf_nodes':[None,7], 'max_features':[None,5,15],'min_samples_split':[2,5],\n",
    "             'min_samples_leaf':[1, 2, 6]})\n",
    "rfr_grd = GridSearchCV(rfr,cv=3,param_grid=rfr_grid)\n",
    "rfr_grd.fit(subscal_data_train,target_train)"
   ]
  },
  {
   "cell_type": "code",
   "execution_count": 377,
   "metadata": {},
   "outputs": [
    {
     "data": {
      "text/plain": [
       "{'criterion': 'gini',\n",
       " 'max_depth': 5,\n",
       " 'max_features': 15,\n",
       " 'max_leaf_nodes': 7,\n",
       " 'min_samples_leaf': 6,\n",
       " 'min_samples_split': 5}"
      ]
     },
     "execution_count": 377,
     "metadata": {},
     "output_type": "execute_result"
    }
   ],
   "source": [
    "###Create a new Random Forest Classifier using the best parameters found\n",
    "rfr_grd.best_params_"
   ]
  },
  {
   "cell_type": "code",
   "execution_count": 378,
   "metadata": {},
   "outputs": [
    {
     "data": {
      "text/plain": [
       "{'bootstrap': True,\n",
       " 'class_weight': None,\n",
       " 'criterion': 'gini',\n",
       " 'max_depth': 5,\n",
       " 'max_features': 15,\n",
       " 'max_leaf_nodes': 7,\n",
       " 'min_samples_leaf': 6,\n",
       " 'min_samples_split': 5,\n",
       " 'min_weight_fraction_leaf': 0.0,\n",
       " 'n_estimators': 10,\n",
       " 'n_jobs': 1,\n",
       " 'oob_score': False,\n",
       " 'random_state': None,\n",
       " 'verbose': 0,\n",
       " 'warm_start': False}"
      ]
     },
     "execution_count": 378,
     "metadata": {},
     "output_type": "execute_result"
    }
   ],
   "source": [
    "best_parameters = rfr_grd.best_estimator_.get_params()\n",
    "#Print the results\n",
    "best_parameters"
   ]
  },
  {
   "cell_type": "code",
   "execution_count": 379,
   "metadata": {},
   "outputs": [
    {
     "data": {
      "text/plain": [
       "RandomForestClassifier(bootstrap=True, class_weight=None, criterion='gini',\n",
       "            max_depth=5, max_features=15, max_leaf_nodes=7,\n",
       "            min_samples_leaf=6, min_samples_split=5,\n",
       "            min_weight_fraction_leaf=0.0, n_estimators=10, n_jobs=1,\n",
       "            oob_score=False, random_state=None, verbose=0,\n",
       "            warm_start=False)"
      ]
     },
     "execution_count": 379,
     "metadata": {},
     "output_type": "execute_result"
    }
   ],
   "source": [
    "new_rfr = rfr_grd.best_estimator_\n",
    "new_rfr"
   ]
  },
  {
   "cell_type": "code",
   "execution_count": 380,
   "metadata": {},
   "outputs": [
    {
     "data": {
      "text/plain": [
       "GridSearchCV(cv=3, error_score='raise',\n",
       "       estimator=SVC(C=1.0, cache_size=200, class_weight=None, coef0=0.0,\n",
       "  decision_function_shape=None, degree=3, gamma='auto', kernel='rbf',\n",
       "  max_iter=-1, probability=False, random_state=None, shrinking=True,\n",
       "  tol=0.001, verbose=False),\n",
       "       fit_params={}, iid=True, n_jobs=1,\n",
       "       param_grid={'kernel': ['rbf', 'linear', 'poly', 'sigmoid'], 'C': [1.0, 10.0, 100.0], 'degree': [3, 1, 5], 'tol': [0.01, 0.03, 0.05]},\n",
       "       pre_dispatch='2*n_jobs', refit=True, scoring=None, verbose=0)"
      ]
     },
     "execution_count": 380,
     "metadata": {},
     "output_type": "execute_result"
    }
   ],
   "source": [
    "###Using the grid search optimize the SVC Classifier\n",
    "#(!don't forget to scale the data!)\n",
    "\n",
    "svc_grid=dict({'C':[1.0,10.0, 100.0],'degree':[3,1,5],'kernel':['rbf', 'linear', 'poly','sigmoid'],\n",
    "               'tol':[0.01, 0.03, 0.05]})\n",
    "svc_grd = GridSearchCV(svc,cv=3,param_grid=svc_grid)\n",
    "svc_grd.fit(subscal_data_train,target_train)"
   ]
  },
  {
   "cell_type": "code",
   "execution_count": 381,
   "metadata": {},
   "outputs": [
    {
     "data": {
      "text/plain": [
       "{'C': 1.0, 'degree': 1, 'kernel': 'poly', 'tol': 0.01}"
      ]
     },
     "execution_count": 381,
     "metadata": {},
     "output_type": "execute_result"
    }
   ],
   "source": [
    "###Create a new SVC Classifier using the best parameters found\n",
    "svc_grd.best_params_"
   ]
  },
  {
   "cell_type": "code",
   "execution_count": 382,
   "metadata": {},
   "outputs": [
    {
     "data": {
      "text/plain": [
       "{'C': 1.0,\n",
       " 'cache_size': 200,\n",
       " 'class_weight': None,\n",
       " 'coef0': 0.0,\n",
       " 'decision_function_shape': None,\n",
       " 'degree': 1,\n",
       " 'gamma': 'auto',\n",
       " 'kernel': 'poly',\n",
       " 'max_iter': -1,\n",
       " 'probability': False,\n",
       " 'random_state': None,\n",
       " 'shrinking': True,\n",
       " 'tol': 0.01,\n",
       " 'verbose': False}"
      ]
     },
     "execution_count": 382,
     "metadata": {},
     "output_type": "execute_result"
    }
   ],
   "source": [
    "best_parameters = svc_grd.best_estimator_.get_params()\n",
    "#Print the results\n",
    "best_parameters"
   ]
  },
  {
   "cell_type": "code",
   "execution_count": 383,
   "metadata": {},
   "outputs": [
    {
     "data": {
      "text/plain": [
       "SVC(C=1.0, cache_size=200, class_weight=None, coef0=0.0,\n",
       "  decision_function_shape=None, degree=1, gamma='auto', kernel='poly',\n",
       "  max_iter=-1, probability=False, random_state=None, shrinking=True,\n",
       "  tol=0.01, verbose=False)"
      ]
     },
     "execution_count": 383,
     "metadata": {},
     "output_type": "execute_result"
    }
   ],
   "source": [
    "new_svc = svc_grd.best_estimator_\n",
    "new_svc"
   ]
  },
  {
   "cell_type": "markdown",
   "metadata": {},
   "source": [
    "<p>Now we have optimized out two classifier we can compare how they perform</p>"
   ]
  },
  {
   "cell_type": "code",
   "execution_count": 384,
   "metadata": {
    "collapsed": true
   },
   "outputs": [],
   "source": [
    "### Compute and the accuracy of both classifiers on the training set using the cross_val_score\n"
   ]
  },
  {
   "cell_type": "code",
   "execution_count": 385,
   "metadata": {
    "collapsed": true
   },
   "outputs": [],
   "source": [
    "#RandomForestClassifier\n",
    "\n",
    "cv_ss_r = ShuffleSplit(subscal_data_train.shape[0],n_iter=5,test_size=0.4,random_state=0)\n",
    "cv_ss_r_scores = cross_val_score(new_rfr, subscal_data_train, target_train, cv=cv_ss_r)\n"
   ]
  },
  {
   "cell_type": "code",
   "execution_count": 386,
   "metadata": {
    "collapsed": true
   },
   "outputs": [],
   "source": [
    "#SVC\n",
    "\n",
    "cv_ss_s = ShuffleSplit(subscal_data_train.shape[0],n_iter=5,test_size=0.4,random_state=0)\n",
    "cv_ss_s_scores = cross_val_score(new_svc, subscal_data_train, target_train, cv=cv_ss_s)\n",
    "\n"
   ]
  },
  {
   "cell_type": "code",
   "execution_count": 387,
   "metadata": {},
   "outputs": [
    {
     "name": "stdout",
     "output_type": "stream",
     "text": [
      "Cross Validated test scores for RandomForestClassifier on training set:\n",
      "Mean: 0.94875 Standard deviation: 0.0187082869339\n",
      "Accuracy of RandomForestClassifier belong to  [0.91133 , 0.98617]\n"
     ]
    }
   ],
   "source": [
    "\n",
    "print \"Cross Validated test scores for RandomForestClassifier on training set:\"\n",
    "print \"Mean:\", np.mean(cv_ss_r_scores),\n",
    "print \"Standard deviation:\", np.std(cv_ss_r_scores)\n",
    "m = np.mean(cv_ss_r_scores) - 2*np.std(cv_ss_r_scores)\n",
    "M = np.mean(cv_ss_r_scores) + 2*np.std(cv_ss_r_scores)\n",
    "print \"Accuracy of RandomForestClassifier belong to  [%0.5f , %0.5f]\"  % (m, M)"
   ]
  },
  {
   "cell_type": "code",
   "execution_count": 388,
   "metadata": {},
   "outputs": [
    {
     "name": "stdout",
     "output_type": "stream",
     "text": [
      "Cross Validated test scores for SVC on training set:\n",
      "Mean: 0.9825\n",
      "Standard deviation: 0.0025\n",
      "Accuracy of SVC  belong to [0.97750 , 0.98750]\n"
     ]
    }
   ],
   "source": [
    "print \"Cross Validated test scores for SVC on training set:\"\n",
    "print \"Mean:\", np.mean(cv_ss_s_scores)\n",
    "print \"Standard deviation:\", np.std(cv_ss_s_scores)\n",
    "m = np.mean(cv_ss_s_scores) - 2*np.std(cv_ss_s_scores)\n",
    "M = np.mean(cv_ss_s_scores) + 2*np.std(cv_ss_s_scores)\n",
    "print \"Accuracy of SVC  belong to [%0.5f , %0.5f]\" % (m, M)"
   ]
  },
  {
   "cell_type": "markdown",
   "metadata": {},
   "source": [
    "<h4> <u>QUESTION 4 :</u> Which classifier gives the best accuracy?</h4>\n",
    "<p><i>It's the SVC</i></p>"
   ]
  },
  {
   "cell_type": "code",
   "execution_count": 389,
   "metadata": {},
   "outputs": [
    {
     "name": "stdout",
     "output_type": "stream",
     "text": [
      "             precision    recall  f1-score   support\n",
      "\n",
      "  malignant       0.91      0.94      0.92        63\n",
      "     benign       0.96      0.94      0.95       108\n",
      "\n",
      "avg / total       0.94      0.94      0.94       171\n",
      "\n"
     ]
    }
   ],
   "source": [
    "###Print the Classification report for the Random Forest Classifier\n",
    "print classification_report(target_test, new_rfr.predict(subscal_data_test), target_names=['malignant', 'benign'])"
   ]
  },
  {
   "cell_type": "code",
   "execution_count": 390,
   "metadata": {},
   "outputs": [
    {
     "name": "stdout",
     "output_type": "stream",
     "text": [
      "             precision    recall  f1-score   support\n",
      "\n",
      "  malignant       0.98      0.95      0.97        63\n",
      "     benign       0.97      0.99      0.98       108\n",
      "\n",
      "avg / total       0.98      0.98      0.98       171\n",
      "\n"
     ]
    }
   ],
   "source": [
    "###Do the same for the SVC classifier\n",
    "print classification_report(target_test, new_svc.predict(subscal_data_test), target_names=['malignant', 'benign'])"
   ]
  },
  {
   "cell_type": "markdown",
   "metadata": {},
   "source": [
    "<h4> <u>QUESTION 5 :</u> Analyze the last two classification reports.</h4>\n",
    "<p><i>Looking at the two tables , it appeared that SVC's classifiations reports gives better results than RandomForetClassifier</i></p>\n",
    "\n",
    "<p><i>This only confirmed the answer to question 4</i></p>\n",
    "\n",
    "<h4> <u>QUESTION 6 :</u> Recall the classification report from the optimized decision tree to conclude on the best algorithm to chose to efficiently detect malignant masses.</h4>\n",
    "\n",
    "<p><i>Even  optimal classifier SVC is always the best</i></p>\n",
    "\n",
    "<h4> <u>BONUS :</u> Repeat the optimization and evalution procedure with the k-nearest neighbors approach.</h4>\n",
    "<p><i>Type your answer here</i></p>"
   ]
  },
  {
   "cell_type": "code",
   "execution_count": 391,
   "metadata": {},
   "outputs": [
    {
     "name": "stdout",
     "output_type": "stream",
     "text": [
      "             precision    recall  f1-score   support\n",
      "\n",
      "  malignant       0.80      1.00      0.89        63\n",
      "     benign       1.00      0.85      0.92       108\n",
      "\n",
      "avg / total       0.93      0.91      0.91       171\n",
      "\n"
     ]
    }
   ],
   "source": [
    "## Whith best Parameters of Decision Tree\n",
    "\n",
    "print classification_report(target_test, new_dtr.predict(subscal_data_test), target_names= ['malignant', 'benign'])"
   ]
  },
  {
   "cell_type": "code",
   "execution_count": null,
   "metadata": {
    "collapsed": true
   },
   "outputs": [],
   "source": []
  },
  {
   "cell_type": "code",
   "execution_count": 392,
   "metadata": {},
   "outputs": [
    {
     "data": {
      "text/plain": [
       "GridSearchCV(cv=3, error_score='raise',\n",
       "       estimator=KNeighborsClassifier(algorithm='auto', leaf_size=30, metric='minkowski',\n",
       "           metric_params=None, n_jobs=1, n_neighbors=5, p=2,\n",
       "           weights='uniform'),\n",
       "       fit_params={}, iid=True, n_jobs=1,\n",
       "       param_grid={'p': [2, 4, 6], 'algorithm': ['ball_tree', 'kd_tree', 'brute'], 'n_neighbors': [7, 15, 17, 21]},\n",
       "       pre_dispatch='2*n_jobs', refit=True, scoring=None, verbose=0)"
      ]
     },
     "execution_count": 392,
     "metadata": {},
     "output_type": "execute_result"
    }
   ],
   "source": [
    "## Whith best Parameters of KNeighborsClassifier\n",
    "\n",
    "from sklearn.neighbors import KNeighborsClassifier\n",
    "knn=KNeighborsClassifier()\n",
    "knn_grid=dict({'algorithm':['ball_tree','kd_tree','brute'], 'p':[2,4,6],'n_neighbors':[7,15,17,21]})\n",
    "\n",
    "knn_grd = GridSearchCV(knn,cv=3,param_grid=knn_grid)\n",
    "knn_grd.fit(subscal_data_train,target_train)"
   ]
  },
  {
   "cell_type": "code",
   "execution_count": 393,
   "metadata": {},
   "outputs": [
    {
     "data": {
      "text/plain": [
       "{'algorithm': 'ball_tree', 'n_neighbors': 7, 'p': 2}"
      ]
     },
     "execution_count": 393,
     "metadata": {},
     "output_type": "execute_result"
    }
   ],
   "source": [
    "knn_grd.best_params_"
   ]
  },
  {
   "cell_type": "code",
   "execution_count": 394,
   "metadata": {},
   "outputs": [
    {
     "data": {
      "text/plain": [
       "{'algorithm': 'ball_tree',\n",
       " 'leaf_size': 30,\n",
       " 'metric': 'minkowski',\n",
       " 'metric_params': None,\n",
       " 'n_jobs': 1,\n",
       " 'n_neighbors': 7,\n",
       " 'p': 2,\n",
       " 'weights': 'uniform'}"
      ]
     },
     "execution_count": 394,
     "metadata": {},
     "output_type": "execute_result"
    }
   ],
   "source": [
    "best_parameters = knn_grd.best_estimator_.get_params()\n",
    "#Print the results\n",
    "best_parameters"
   ]
  },
  {
   "cell_type": "code",
   "execution_count": 395,
   "metadata": {},
   "outputs": [
    {
     "data": {
      "text/plain": [
       "RandomForestClassifier(bootstrap=True, class_weight=None, criterion='gini',\n",
       "            max_depth=5, max_features=15, max_leaf_nodes=7,\n",
       "            min_samples_leaf=6, min_samples_split=5,\n",
       "            min_weight_fraction_leaf=0.0, n_estimators=10, n_jobs=1,\n",
       "            oob_score=False, random_state=None, verbose=0,\n",
       "            warm_start=False)"
      ]
     },
     "execution_count": 395,
     "metadata": {},
     "output_type": "execute_result"
    }
   ],
   "source": [
    "new_knn = rfr_grd.best_estimator_\n",
    "new_knn"
   ]
  },
  {
   "cell_type": "code",
   "execution_count": 396,
   "metadata": {},
   "outputs": [
    {
     "name": "stdout",
     "output_type": "stream",
     "text": [
      "             precision    recall  f1-score   support\n",
      "\n",
      "  malignant       0.91      0.94      0.92        63\n",
      "     benign       0.96      0.94      0.95       108\n",
      "\n",
      "avg / total       0.94      0.94      0.94       171\n",
      "\n"
     ]
    }
   ],
   "source": [
    "print classification_report(target_test, new_knn.predict(subscal_data_test), target_names=['malignant', 'benign'])"
   ]
  },
  {
   "cell_type": "markdown",
   "metadata": {},
   "source": [
    "# THANKS"
   ]
  }
 ],
 "metadata": {
  "kernelspec": {
   "display_name": "Python 2",
   "language": "python",
   "name": "python2"
  },
  "language_info": {
   "codemirror_mode": {
    "name": "ipython",
    "version": 2
   },
   "file_extension": ".py",
   "mimetype": "text/x-python",
   "name": "python",
   "nbconvert_exporter": "python",
   "pygments_lexer": "ipython2",
   "version": "2.7.14"
  }
 },
 "nbformat": 4,
 "nbformat_minor": 1
}
